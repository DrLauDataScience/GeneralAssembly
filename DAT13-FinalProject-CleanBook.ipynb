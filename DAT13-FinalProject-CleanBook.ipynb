{
 "metadata": {
  "name": "",
  "signature": "sha256:c14b48f34956ae0ce537e4e9b31f0821d53195434eaabfa0bedc76135de3b8f2"
 },
 "nbformat": 3,
 "nbformat_minor": 0,
 "worksheets": [
  {
   "cells": [
    {
     "cell_type": "heading",
     "level": 1,
     "metadata": {},
     "source": [
      "GENERAL ASSEMBLY - DATA SCIENCE MODULE DAT13"
     ]
    },
    {
     "cell_type": "heading",
     "level": 2,
     "metadata": {},
     "source": [
      "Joe Solway - Clean Notebook"
     ]
    },
    {
     "cell_type": "heading",
     "level": 3,
     "metadata": {},
     "source": [
      "Outline - NYC Taxi and Limousine Commission is facing increasing competition from Uber, Lyft and other app-based taxi providers. Helping the TLC understand how demand varies could help them become more competitive against this competition\n",
      "\n"
     ]
    },
    {
     "cell_type": "heading",
     "level": 3,
     "metadata": {},
     "source": [
      "Question - How does the taxi demand vary throughout the year, and can that variation be predicted? "
     ]
    },
    {
     "cell_type": "heading",
     "level": 2,
     "metadata": {},
     "source": [
      "<h1 align=\"center\"> TAXI PICKUPS FOR MAY 2013</h1>"
     ]
    },
    {
     "cell_type": "markdown",
     "metadata": {},
     "source": [
      "![alt text](GA_Taxi_0.png \"Taxi_Pickups\")"
     ]
    },
    {
     "cell_type": "heading",
     "level": 2,
     "metadata": {},
     "source": [
      "<h1 align=\"center\"> TAXI PICKUPS - HEAT MAP</h1>"
     ]
    },
    {
     "cell_type": "markdown",
     "metadata": {},
     "source": [
      "![alt text](GA_Taxi_heat.png \"Taxi_Pickups\")"
     ]
    },
    {
     "cell_type": "heading",
     "level": 2,
     "metadata": {},
     "source": [
      "<h1 align=\"center\"> TAXI PICKUPS at JFK AIRPORT </h1>"
     ]
    },
    {
     "cell_type": "markdown",
     "metadata": {},
     "source": [
      "![alt text](GA_Taxi_jfk.png \"Taxi_Pickups\")"
     ]
    },
    {
     "cell_type": "heading",
     "level": 2,
     "metadata": {},
     "source": [
      "<h1 align=\"center\"> JFK Map</h1>"
     ]
    },
    {
     "cell_type": "markdown",
     "metadata": {},
     "source": [
      "![alt text](jfk-parking-map.jpg \"Taxi_Pickups\")"
     ]
    },
    {
     "cell_type": "heading",
     "level": 2,
     "metadata": {},
     "source": [
      "<h1 align=\"center\"> DATAFRAME HEAD</h1>"
     ]
    },
    {
     "cell_type": "markdown",
     "metadata": {},
     "source": [
      "![alt text](dataframe.JPG \"Taxi_Pickups\")"
     ]
    },
    {
     "cell_type": "heading",
     "level": 1,
     "metadata": {},
     "source": [
      "<h1 align=\"center\"> TOTAL HOURLY TAXI PICKUPS FOR 2013 TIMELINE</h1>"
     ]
    },
    {
     "cell_type": "markdown",
     "metadata": {},
     "source": [
      "![alt text](GA_Taxi_1.png \"Taxi_Pickups\")"
     ]
    },
    {
     "cell_type": "heading",
     "level": 2,
     "metadata": {},
     "source": [
      "<h1 align=\"center\"> TOTAL HOURLY TAXI PICKUPS FOR 2013 TIMELINE (3AM-4AM)</h1>"
     ]
    },
    {
     "cell_type": "markdown",
     "metadata": {},
     "source": [
      "![alt text](GA_Taxi_2.png \"Taxi_Pickups\")"
     ]
    },
    {
     "cell_type": "heading",
     "level": 2,
     "metadata": {},
     "source": [
      "<h1 align=\"center\"> TOTAL HOURLY TAXI PICKUPS FOR 2013 TIMELINE (8AM-9AM)</h1>"
     ]
    },
    {
     "cell_type": "markdown",
     "metadata": {},
     "source": [
      "![alt text](GA_Taxi_3.png \"Taxi_Pickups\")"
     ]
    },
    {
     "cell_type": "heading",
     "level": 2,
     "metadata": {},
     "source": [
      "<h1 align=\"center\"> TOTAL HOURLY TAXI PICKUPS FOR 2013 TIMELINE (12NOON-1PM)</h1>"
     ]
    },
    {
     "cell_type": "markdown",
     "metadata": {},
     "source": [
      "![alt text](GA_Taxi_4.png \"Taxi_Pickups\")"
     ]
    },
    {
     "cell_type": "heading",
     "level": 2,
     "metadata": {},
     "source": [
      "<h1 align=\"center\"> TOTAL HOURLY TAXI PICKUPS FOR 2013 TIMELINE (6PM-7PM)</h1>"
     ]
    },
    {
     "cell_type": "markdown",
     "metadata": {},
     "source": [
      "![alt text](GA_Taxi_5.png \"Taxi_Pickups\")"
     ]
    },
    {
     "cell_type": "heading",
     "level": 2,
     "metadata": {},
     "source": [
      "<h1 align=\"center\"> TOTAL HOURLY TAXI PICKUPS FOR 2013 TIMELINE (11PM-MIDNIGHT)</h1>"
     ]
    },
    {
     "cell_type": "markdown",
     "metadata": {},
     "source": [
      "![alt text](GA_Taxi_6.png \"Taxi_Pickups\")"
     ]
    },
    {
     "cell_type": "markdown",
     "metadata": {},
     "source": [
      "<h1 align=\"center\"> LINEAR REGRESSION - R SQUARED</h1>"
     ]
    },
    {
     "cell_type": "markdown",
     "metadata": {},
     "source": [
      "![alt text](RSQ1.JPG \"Taxi_Pickups\")"
     ]
    },
    {
     "cell_type": "heading",
     "level": 2,
     "metadata": {},
     "source": [
      "<h1 align=\"center\"> LINEAR REGRESSION - TEST-TRAIN-SPLIT</h1>"
     ]
    },
    {
     "cell_type": "markdown",
     "metadata": {},
     "source": [
      "![alt text](RSQ2.JPG \"Taxi_Pickups\")"
     ]
    },
    {
     "cell_type": "markdown",
     "metadata": {},
     "source": [
      "<h1 align=\"center\"> AVERAGE TOTAL HOURLY TAXI PICKUPS PER HOUR</h1>"
     ]
    },
    {
     "cell_type": "markdown",
     "metadata": {},
     "source": [
      "![alt text](GA_Taxi_7.png \"Taxi_Pickups\")"
     ]
    },
    {
     "cell_type": "markdown",
     "metadata": {},
     "source": [
      "![alt text](TAXI.JPG \"Taxi_Pickups\")"
     ]
    },
    {
     "cell_type": "markdown",
     "metadata": {},
     "source": [
      "<h1 align=\"center\"> END</h1>\n"
     ]
    },
    {
     "cell_type": "markdown",
     "metadata": {},
     "source": []
    },
    {
     "cell_type": "code",
     "collapsed": false,
     "input": [],
     "language": "python",
     "metadata": {},
     "outputs": [],
     "prompt_number": 15
    },
    {
     "cell_type": "markdown",
     "metadata": {},
     "source": []
    },
    {
     "cell_type": "code",
     "collapsed": false,
     "input": [],
     "language": "python",
     "metadata": {},
     "outputs": []
    }
   ],
   "metadata": {}
  }
 ]
}