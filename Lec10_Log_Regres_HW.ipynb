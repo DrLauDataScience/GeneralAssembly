{
 "metadata": {
  "name": "",
  "signature": "sha256:5625e35e21812c53acfddd64dfbd68afe6d6017fe89b3048618a3091371971e2"
 },
 "nbformat": 3,
 "nbformat_minor": 0,
 "worksheets": [
  {
   "cells": [
    {
     "cell_type": "code",
     "collapsed": false,
     "input": [
      "# Lecture 10 Homework - Logistic Regression\n",
      "# Joseph Solway 10/9/14\n",
      "\n",
      "# Using the data from your project topic, choose a categorical target\n",
      "# If necessary, change continiuous variable to categorical via a threshold, a la \"data['affair'] = data['affairs'] > 1\n",
      "# Choose features to use to predict the target\n",
      "# Prepare an exploratory analysis of the features and target, include graphs.\n",
      "# Run a logistic regression on your target using the features\n",
      "# Make a prediction based on an interesting input set\n",
      "# Save your model\n",
      "# Prepare a test/train split and score your model against the training set\n",
      "# Turn in the complete analysis as an IPython Notebook\n",
      "\n",
      "#Question - Does the time of day of pick-up indicate if the average trip speed will exceed 20 mph?"
     ],
     "language": "python",
     "metadata": {},
     "outputs": [],
     "prompt_number": 1
    },
    {
     "cell_type": "code",
     "collapsed": false,
     "input": [
      "from pandas import Series, DataFrame #Series and DataFrame are used alot so imported direclty to local namespace\n",
      "import pandas as pd\n",
      "import numpy as np\n",
      "import matplotlib.pyplot as plt\n",
      "from datetime import datetime\n",
      "import time\n",
      "import pylab\n",
      "filename = 'trip_data_1.csv'\n",
      "start = time.time()\n",
      "df = pd.read_csv(filename, nrows=100000) #Reading first 1,000,000 entries into dataframe\n",
      "duration = time.time() - start\n",
      "print duration"
     ],
     "language": "python",
     "metadata": {},
     "outputs": [
      {
       "output_type": "stream",
       "stream": "stdout",
       "text": [
        "ERROR! Session/line number was not unique in database. History logging moved to new session 205\n",
        "0.413000106812\n"
       ]
      }
     ],
     "prompt_number": 29
    },
    {
     "cell_type": "code",
     "collapsed": false,
     "input": [
      "#Clean the data\n",
      "df.dropna() #drops rows with missing data\n",
      "\n",
      "df = df[(df.dropoff_longitude < -10)]\n",
      "df = df[(df.dropoff_latitude > 10) & (df.dropoff_latitude < 150)]\n",
      "df = df[(df.pickup_longitude < -10)]\n",
      "df = df[(df.pickup_latitude > 10) & (df.pickup_latitude < 150)]\n",
      "df = df[(df.trip_time_in_secs > 0)]\n",
      "df = df[(df.trip_distance > 0)]\n",
      "df['pickup_hour'] = df.pickup_datetime.apply(lambda d: datetime.strptime(d,'%Y-%m-%d %H:%M:%S').hour)\n"
     ],
     "language": "python",
     "metadata": {},
     "outputs": [],
     "prompt_number": 35
    },
    {
     "cell_type": "code",
     "collapsed": false,
     "input": [
      "df['speed'] = df['trip_distance']/(df['trip_time_in_secs']/3600)\n",
      "df['speed20'] = df['speed']/20\n",
      "df['speed20'] = df['speed20'].astype('int')\n",
      "df['speed20'][df['speed20'] >= 2] = 1\n",
      "X = df['pickup_hour'].values\n",
      "X = X.reshape(-1,1)\n",
      "y = df['speed20'].values"
     ],
     "language": "python",
     "metadata": {},
     "outputs": [],
     "prompt_number": 36
    },
    {
     "cell_type": "code",
     "collapsed": false,
     "input": [
      "plt.scatter(X,y, alpha = 0.05)"
     ],
     "language": "python",
     "metadata": {},
     "outputs": [
      {
       "metadata": {},
       "output_type": "pyout",
       "prompt_number": 37,
       "text": [
        "<matplotlib.collections.PathCollection at 0x206a7d30>"
       ]
      },
      {
       "metadata": {},
       "output_type": "display_data",
       "png": "[encoded data removed]",
       "text": [
        "<matplotlib.figure.Figure at 0x1f4da198>"
       ]
      }
     ],
     "prompt_number": 37
    },
    {
     "cell_type": "code",
     "collapsed": false,
     "input": [
      "# Import the SK Learn Libraries\n",
      "from sklearn import linear_model, datasets\n",
      "clf = linear_model.LogisticRegression()\n",
      "model = clf.fit(X,y)\n",
      "Rsq = model.score(X,y)\n",
      "print 'Pickup-hour as a predictor whether taxi speed will exceed 20 mph:'\n",
      "print 'R-Squared is %.2f' % Rsq"
     ],
     "language": "python",
     "metadata": {},
     "outputs": [
      {
       "output_type": "stream",
       "stream": "stdout",
       "text": [
        "Pickup-hour as a predictor whether taxi speed will exceed 20 mph:\n",
        "R-Squared is 0.83\n"
       ]
      }
     ],
     "prompt_number": 39
    },
    {
     "cell_type": "markdown",
     "metadata": {},
     "source": [
      "#### Conclusiong - logistric regression indicates a relatively high value for pick-up hour to a predictor of trip speed"
     ]
    },
    {
     "cell_type": "code",
     "collapsed": false,
     "input": [],
     "language": "python",
     "metadata": {},
     "outputs": [],
     "prompt_number": 68
    },
    {
     "cell_type": "code",
     "collapsed": false,
     "input": [],
     "language": "python",
     "metadata": {},
     "outputs": []
    }
   ],
   "metadata": {}
  }
 ]
}