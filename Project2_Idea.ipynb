{
 "metadata": {
  "name": "",
  "signature": "sha256:0a7483686512e61f33f6bce031fdc5c970d7ea1f53d9d209ea2f57cfcc272793"
 },
 "nbformat": 3,
 "nbformat_minor": 0,
 "worksheets": [
  {
   "cells": [
    {
     "cell_type": "markdown",
     "metadata": {},
     "source": [
      "# Project II Idea Submission \n",
      "\n",
      "##If your dataset has changed since the first project, quickly describe your new dataset.\n",
      "\n",
      "#### Still planning to work with the taxi data\n",
      "\n",
      "## What is the target you are trying to predict?\n",
      "\n",
      "#### Number of taxi's doing pick-ups at JFK Airport in any given day\n",
      "\n",
      "## What features will you use to predict your target?\n",
      "\n",
      "#### Day of the week, weather it was a national holiday and historical weather data - amount of rain fall and snow precipitation\n",
      "\n",
      "\n",
      "#### Thanks Joe"
     ]
    },
    {
     "cell_type": "code",
     "collapsed": false,
     "input": [],
     "language": "python",
     "metadata": {},
     "outputs": []
    }
   ],
   "metadata": {}
  }
 ]
}