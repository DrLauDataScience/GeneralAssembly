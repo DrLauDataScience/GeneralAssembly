{
 "metadata": {
  "name": "",
  "signature": "sha256:46d0a82e5a1777e5cc5da64bca1382f4eec3877a3c59283f91a2c8eba09edee7"
 },
 "nbformat": 3,
 "nbformat_minor": 0,
 "worksheets": [
  {
   "cells": [
    {
     "cell_type": "markdown",
     "metadata": {},
     "source": [
      "# General Assembly - Lecture 9 Homework- 10/1/14 - Project 1 Small Group Feedback"
     ]
    },
    {
     "cell_type": "markdown",
     "metadata": {},
     "source": [
      "### Rafael\n",
      "- Project : Book Publishing \u2013 \n",
      "- Interesting: Possible correlation between price and length of book (number of pages) \n",
      "- Suggestion: Would be interesting to note correlation between year of book and rating for longer books to see if there is a correlation between attention span and approval for long novels. \n",
      "- Also good to look for differences in reviews for e-books versus hard copy\n",
      "\n",
      "### Adrian\n",
      "- Hollywood blockbuster in Chinese market. \n",
      "- Interesting: Possible Increase in box-office with a Chinese actor. Identify optimum time in China to release film.  \n",
      "- Suggestion: Look at popularity of film for given actor comparing their role in an American made movie versus Chinese made movie\n",
      "\n",
      "### Craig\n",
      "- Political campaigns\n",
      "- Interesting: Where to send campaign workers e.g. target areas with certain demographics \u2013 women / young people \n",
      "- Suggestion: tie with API of event calendars. Look at registered independents \n"
     ]
    },
    {
     "cell_type": "code",
     "collapsed": false,
     "input": [],
     "language": "python",
     "metadata": {},
     "outputs": [],
     "prompt_number": 1
    },
    {
     "cell_type": "code",
     "collapsed": false,
     "input": [],
     "language": "python",
     "metadata": {},
     "outputs": []
    }
   ],
   "metadata": {}
  }
 ]
}