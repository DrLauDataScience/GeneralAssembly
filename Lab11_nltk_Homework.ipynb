{
 "metadata": {
  "name": "",
  "signature": "sha256:cc8ac921a51aee6c0b8128807c09120dd5ae534990f37aa3728ab8508b066d50"
 },
 "nbformat": 3,
 "nbformat_minor": 0,
 "worksheets": [
  {
   "cells": [
    {
     "cell_type": "code",
     "collapsed": false,
     "input": [
      "from __future__ import division\n",
      "import pandas as pd\n",
      "\n",
      "tweets = pd.read_csv('twitter5.csv')\n",
      "tweets = tweets\n",
      "\n",
      "#print tweets"
     ],
     "language": "python",
     "metadata": {},
     "outputs": [],
     "prompt_number": 1
    },
    {
     "cell_type": "code",
     "collapsed": false,
     "input": [
      "def tweet_uniqueness(tweets):\n",
      "    # Code for finding the number of unique tweets in a column over the number of tweets.\n",
      "    # should return a number between 0 and 1\n",
      "    return len(set(tweets)) / len(tweets)\n",
      "\n",
      "# shows that with the code above, we didn't get completely unique tweets.\n",
      "print tweet_uniqueness(tweets.id) \n",
      "\n",
      "# code to drop duplicates based on the id column alone.\n",
      "unique_tweets = tweets.drop_duplicates(cols=['id'])\n"
     ],
     "language": "python",
     "metadata": {},
     "outputs": [
      {
       "output_type": "stream",
       "stream": "stdout",
       "text": [
        "0.761363636364\n"
       ]
      }
     ],
     "prompt_number": 87
    },
    {
     "cell_type": "code",
     "collapsed": false,
     "input": [
      "for i in unique_tweets.hashtag.unique():\n",
      "    print i, tweet_uniqueness(unique_tweets[unique_tweets.hashtag == i].tweet)"
     ],
     "language": "python",
     "metadata": {},
     "outputs": [
      {
       "output_type": "stream",
       "stream": "stdout",
       "text": [
        "hongkong 0.863636363636\n",
        "occupycentral 0.719047619048\n",
        "umbrellarevolution 0.630872483221\n",
        "china 0.950980392157\n",
        "hk 0.970588235294\n",
        "admiralty 0.716981132075\n",
        "occupyhk 0.610778443114\n"
       ]
      }
     ],
     "prompt_number": 88
    },
    {
     "cell_type": "code",
     "collapsed": false,
     "input": [
      "unique_tweets.hashtag.unique()"
     ],
     "language": "python",
     "metadata": {},
     "outputs": [
      {
       "metadata": {},
       "output_type": "pyout",
       "prompt_number": 89,
       "text": [
        "array(['hongkong', 'occupycentral', 'umbrellarevolution', 'china', 'hk',\n",
        "       'admiralty', 'occupyhk'], dtype=object)"
       ]
      }
     ],
     "prompt_number": 89
    },
    {
     "cell_type": "code",
     "collapsed": false,
     "input": [
      "import nltk\n",
      "\n",
      "def tokenize_tweet(t, remove_stop=True, remove_hashtag=False):\n",
      "    import string\n",
      "    import re\n",
      "    tweet = t\n",
      "    tweet = tweet.lower()\n",
      "    tweet = re.sub('@\\w+', 'TWITTER_HANDLE', tweet)\n",
      "    tweet = re.sub('(https?:\\/\\/)?([\\da-z\\.-]+)\\.([a-z\\.]{2,6})([\\/\\w \\.-]*)*\\/?', 'URL', tweet)\n",
      "    tweet = tweet.translate(string.maketrans(\"\",\"\"), string.punctuation)\n",
      "    words = nltk.tokenize.wordpunct_tokenize(tweet)\n",
      "    if remove_stop:\n",
      "        # How do we filter for words in the stopwords corpus?\n",
      "        stopwords_filter = set(nltk.corpus.stopwords.words('english'))\n",
      "        words = [w for w in words if not w in stopwords_filter]\n",
      "    if remove_hashtag:\n",
      "        # How do we filter out the actual hashtag in the tweet itself?\n",
      "        print None\n",
      "    return words\n",
      "unique_tweets['tokens'] = unique_tweets.tweet.apply(tokenize_tweet, remove_stop=True)\n",
      "unique_tweets['tokens_w_stopwords'] = unique_tweets.tweet.apply(tokenize_tweet, remove_stop=False)"
     ],
     "language": "python",
     "metadata": {},
     "outputs": [
      {
       "output_type": "stream",
       "stream": "stderr",
       "text": [
        "-c:20: SettingWithCopyWarning: A value is trying to be set on a copy of a slice from a DataFrame.\n",
        "Try using .loc[row_index,col_indexer] = value instead\n",
        "-c:21: SettingWithCopyWarning: A value is trying to be set on a copy of a slice from a DataFrame.\n",
        "Try using .loc[row_index,col_indexer] = value instead\n"
       ]
      }
     ],
     "prompt_number": 91
    },
    {
     "cell_type": "code",
     "collapsed": false,
     "input": [
      "# pos_tag is a part of speech tagger, based on the text that it ingests. \n",
      "# while its not built for twitter data, we can try it out and see how accurate it is\n",
      "nltk.pos_tag\n",
      "unique_tweets['pos'] = unique_tweets['tokens'].apply(nltk.pos_tag)"
     ],
     "language": "python",
     "metadata": {},
     "outputs": [],
     "prompt_number": 92
    },
    {
     "cell_type": "code",
     "collapsed": false,
     "input": [
      "unique_tweets.pos[0]"
     ],
     "language": "python",
     "metadata": {},
     "outputs": [
      {
       "metadata": {},
       "output_type": "pyout",
       "prompt_number": 7,
       "text": [
        "[('hongkong', 'IN'),\n",
        " ('rodney', 'NN'),\n",
        " ('king', 'VBG'),\n",
        " ('police', 'NN'),\n",
        " ('need', 'NN'),\n",
        " ('answer', 'NN'),\n",
        " ('apparent', 'NN'),\n",
        " ('gratuitous', 'JJ'),\n",
        " ('assault', 'NN'),\n",
        " ('occupycentral', 'JJ'),\n",
        " ('protester', 'NN'),\n",
        " ('URL', 'NNP')]"
       ]
      }
     ],
     "prompt_number": 7
    },
    {
     "cell_type": "code",
     "collapsed": false,
     "input": [
      "# Printing out all words that come back as adjectives (JJ):\n",
      "adjectives = []\n",
      "for i in unique_tweets.pos:\n",
      "    bb = [j[0] for j in i if j[1] == 'JJ']\n",
      "    if bb:\n",
      "        adjectives.extend(bb)"
     ],
     "language": "python",
     "metadata": {},
     "outputs": [],
     "prompt_number": 93
    },
    {
     "cell_type": "code",
     "collapsed": false,
     "input": [
      "adjective_list = {\n",
      "    'industrial': 0,\n",
      "    'excessive': -1,\n",
      "    'gratuitous': 1,\n",
      "    'chaotic': -1,\n",
      "    'national': 1,\n",
      "    'young': 1,\n",
      "    'yellow': 0,\n",
      "    'high': 1,\n",
      "    'middle': 0,\n",
      "    'likely': 1,\n",
      "    'economic': 0,\n",
      "    'creative': 1,\n",
      "    'open': 1,\n",
      "    'physical': 0,\n",
      "    'symbiotic': 1,\n",
      "    'legal': 1,\n",
      "    'next': 1,\n",
      "    'genetic': 0,\n",
      "    'angry': -1,\n",
      "    'strong': 1,\n",
      "    'peaceful': 1,\n",
      "    'new': 1,\n",
      "    'widespread': 1,\n",
      "    'real': 1,\n",
      "    'good': 1,\n",
      "    'normal': 0,\n",
      "    'successful': 1,\n",
      "    'big': 1,\n",
      "    'basic': -1,\n",
      "    'hate': -1,\n",
      "    'private': -1,\n",
      "    'front': 0,\n",
      "    'central': 0,\n",
      "    'comfortable': 1,\n",
      "    'last': 0,\n",
      "    'helpful': 1,\n",
      "    'third': 0,\n",
      "    'many': 1,\n",
      "    'clear': 1,\n",
      "    'proud': 1,\n",
      "    'brutal': -1,\n",
      "    'large': 1,\n",
      "    'dirty': -1,\n",
      "    'professional': 1,\n",
      "    'first': 0,\n",
      "}"
     ],
     "language": "python",
     "metadata": {},
     "outputs": [],
     "prompt_number": 9
    },
    {
     "cell_type": "code",
     "collapsed": false,
     "input": [
      "# First function: create a sentiment score column.\n",
      "# Should take in a list of words, and return back the score as\n",
      "# mean(sentiment_of_adjectives)\n",
      "\n",
      "def measure_sentiment(words):\n",
      "    sent = []\n",
      "    for i in words:\n",
      "        if i in adjective_list.keys():\n",
      "            sent.append(adjective_list[i])\n",
      "    if sent:\n",
      "        return sum(sent) / len(sent)\n",
      "    else:\n",
      "        return 0\n",
      "\n",
      "\n",
      "# Second function: Create a numeric target column.\n",
      "def numeric_hashtag(tag):\n",
      "    # we could use a dictionary similar to above to easily map hashtags to numeric values.\n",
      "    targets = {\n",
      "        u'hongkong': 0,\n",
      "        u'occupycentral': 1,\n",
      "        u'umbrellarevolution':2,\n",
      "        u'china':3,\n",
      "        u'hk':4,\n",
      "        u'admiralty':5,\n",
      "        u'occupyhk':6,\n",
      "    }\n",
      "    return targets[tag]"
     ],
     "language": "python",
     "metadata": {},
     "outputs": [],
     "prompt_number": 94
    },
    {
     "cell_type": "code",
     "collapsed": false,
     "input": [
      "unique_tweets['sentiment'] = unique_tweets.tokens.apply(measure_sentiment)\n",
      "print unique_tweets.sentiment.hist()\n",
      "\n",
      "#unique_tweets['target'] = unique_tweets.hashtag.apply(numeric_hashtag)\n",
      "# Build a logistic regression using the sentiment feature and the numeric hashtags\n",
      "\n",
      "#from sklearn import linear_model as lm\n",
      "#print unique_tweets[['sentiment']].head(10)\n",
      "#print unique_tweets[['target']].head(10)\n",
      "\n",
      "#lmfit = lm.LogisticRegression()\n",
      "#lmfit.fit(unique_tweets[['sentiment']], unique_tweets['target'])\n",
      "#print lmfit.score(unique_tweets[['sentiment']], unique_tweets['target'])"
     ],
     "language": "python",
     "metadata": {},
     "outputs": [
      {
       "output_type": "stream",
       "stream": "stdout",
       "text": [
        "Axes(0.125,0.125;0.775x0.775)\n"
       ]
      },
      {
       "metadata": {},
       "output_type": "display_data",
       "png": "[encoded data removed]",
       "text": [
        "<matplotlib.figure.Figure at 0x1ed2fa20>"
       ]
      }
     ],
     "prompt_number": 100
    },
    {
     "cell_type": "code",
     "collapsed": false,
     "input": [
      "from collections import Counter\n",
      "\n",
      "a = (unique_tweets.tokens[unique_tweets.hashtag == \"hongkong\"])\n",
      "(a[0:3])"
     ],
     "language": "python",
     "metadata": {},
     "outputs": [
      {
       "metadata": {},
       "output_type": "pyout",
       "prompt_number": 19,
       "text": [
        "0    [hongkong, rodney, king, police, need, answer,...\n",
        "1    [wont, move, im, ready, get, arrested, says, p...\n",
        "2    [rt, TWITTERHANDLE, footage, beating, prompts,...\n",
        "Name: tokens, dtype: object"
       ]
      }
     ],
     "prompt_number": 19
    },
    {
     "cell_type": "code",
     "collapsed": false,
     "input": [
      "def measure_sentiment(words):\n",
      "    sent = []\n",
      "    for i in words:\n",
      "        sent.append(adjective_list[i])\n",
      "    if sent:\n",
      "        return sum(sent) / len(sent)\n",
      "    else:\n",
      "        return 0   \n",
      "hashtags=[\n",
      "    u'hongkong',\n",
      "    u'occupycentral',\n",
      "    u'umbrellarevolution',\n",
      "    u'china',\n",
      "    u'hk',\n",
      "    u'admiralty',\n",
      "    u'occupyhk',\n",
      "]"
     ],
     "language": "python",
     "metadata": {},
     "outputs": [],
     "prompt_number": 15
    },
    {
     "cell_type": "markdown",
     "metadata": {},
     "source": [
      "##Homework\n",
      "\n",
      "#####Continue iterating on the twitter data set. What new features could you curate that could be predictive of a hashtag?\n",
      "#####Consider:\n",
      "#####length of a tweet, or number of tokens in a tweet\n",
      "#####Finding more words to include in the sentiment dictionary\n",
      "#####Finding words most commonly used along a hashtag.\n",
      "#####add to the code, and build a better model using your new features.\n",
      "#####OR\n",
      "#####follow a different persuit with the data, given that you can work with the twitter api, \n",
      "#####which will provide you with much more data than included in the master csv file here."
     ]
    },
    {
     "cell_type": "markdown",
     "metadata": {},
     "source": [
      "### Test correlation to tweet number of tokens"
     ]
    },
    {
     "cell_type": "code",
     "collapsed": false,
     "input": [
      "f = lambda x: len(x) \n",
      "unique_tweets['token_length'] = unique_tweets['tokens'].apply(f)"
     ],
     "language": "python",
     "metadata": {},
     "outputs": [],
     "prompt_number": 24
    },
    {
     "cell_type": "code",
     "collapsed": false,
     "input": [
      "from sklearn import linear_model as lm\n",
      "lmfit = lm.LogisticRegression()\n",
      "print lmfit.fit(unique_tweets[['token_length']], unique_tweets['target'])\n",
      "print lmfit.score(unique_tweets[['token_length']], unique_tweets['target'])\n",
      "\n",
      "import matplotlib.pyplot as plt\n",
      "plt.scatter(unique_tweets[['token_length']], unique_tweets['target'], alpha = 0.3)\n"
     ],
     "language": "python",
     "metadata": {},
     "outputs": [
      {
       "output_type": "stream",
       "stream": "stdout",
       "text": [
        "LogisticRegression(C=1.0, class_weight=None, dual=False, fit_intercept=True,\n",
        "          intercept_scaling=1, penalty=l2, random_state=None, tol=0.0001)\n",
        "0.230026338894\n"
       ]
      },
      {
       "metadata": {},
       "output_type": "pyout",
       "prompt_number": 85,
       "text": [
        "<matplotlib.collections.PathCollection at 0x1f1e8748>"
       ]
      },
      {
       "metadata": {},
       "output_type": "display_data",
       "png": "[encoded data removed]",
       "text": [
        "<matplotlib.figure.Figure at 0x1bcf5048>"
       ]
      }
     ],
     "prompt_number": 85
    },
    {
     "cell_type": "markdown",
     "metadata": {},
     "source": [
      "#### R-squared = 0.23, hashtag not correlated to number of tokens in the tweet"
     ]
    },
    {
     "cell_type": "markdown",
     "metadata": {},
     "source": [
      "### Next - Test correlation of hashtag to list of key words in the tweet"
     ]
    },
    {
     "cell_type": "code",
     "collapsed": false,
     "input": [
      "from collections import defaultdict\n",
      "import operator\n",
      "\n",
      "keywords_byhash = {}\n",
      "for hashtag in hashtags:\n",
      "    list = []\n",
      "    for row in unique_tweets.tokens[unique_tweets.hashtag == hashtag]:\n",
      "        list = list + row\n",
      "        wordcount = defaultdict(int)\n",
      "        for word in list:\n",
      "            wordcount[word] += 1\n",
      "            sorted_wordcount = sorted(wordcount.items(), key=operator.itemgetter(1), reverse = True)\n",
      "            sorted_wordcount = dict(sorted_wordcount[:10]).keys()\n",
      "    keywords_byhash[hashtag] = sorted_wordcount\n",
      "##"
     ],
     "language": "python",
     "metadata": {},
     "outputs": [],
     "prompt_number": 39
    },
    {
     "cell_type": "code",
     "collapsed": false,
     "input": [
      "keywords_byhash"
     ],
     "language": "python",
     "metadata": {},
     "outputs": [
      {
       "metadata": {},
       "output_type": "pyout",
       "prompt_number": 98,
       "text": [
        "{u'admiralty': ['rt',\n",
        "  'square',\n",
        "  'police',\n",
        "  'umbrellarevolution',\n",
        "  'URL',\n",
        "  'hongkong',\n",
        "  'TWITTERHANDLE',\n",
        "  'occupycentral',\n",
        "  'admiralty',\n",
        "  'view'],\n",
        " u'china': ['rt',\n",
        "  'URLURL',\n",
        "  'URL',\n",
        "  'us',\n",
        "  'website',\n",
        "  'china',\n",
        "  'TWITTERHANDLE',\n",
        "  'news',\n",
        "  'URLchina',\n",
        "  'blocked'],\n",
        " u'hk': ['paintballmexico',\n",
        "  'police',\n",
        "  'paint',\n",
        "  'URL',\n",
        "  'gotchamexico',\n",
        "  'gotcha',\n",
        "  'TWITTERHANDLE',\n",
        "  'hk',\n",
        "  'paintball',\n",
        "  'gisportz'],\n",
        " u'hongkong': ['rt',\n",
        "  'URLumbrellarevolution',\n",
        "  'police',\n",
        "  'URL',\n",
        "  'hongkong',\n",
        "  'protesters',\n",
        "  'TWITTERHANDLE',\n",
        "  'china',\n",
        "  'beating',\n",
        "  'URLhongkong'],\n",
        " u'occupycentral': ['rt',\n",
        "  'hong',\n",
        "  'police',\n",
        "  'umbrellarevolution',\n",
        "  'URL',\n",
        "  'URLoccupycentral',\n",
        "  'TWITTERHANDLE',\n",
        "  'kong',\n",
        "  'occupycentral',\n",
        "  'occupyhk'],\n",
        " u'occupyhk': ['rt',\n",
        "  'occupyhk',\n",
        "  'URL',\n",
        "  'protesters',\n",
        "  'TWITTERHANDLE',\n",
        "  'police',\n",
        "  'hk',\n",
        "  'URLoccupyhk',\n",
        "  'rally',\n",
        "  'last'],\n",
        " u'umbrellarevolution': ['rt',\n",
        "  'URLumbrellarevolution',\n",
        "  'police',\n",
        "  'umbrellarevolution',\n",
        "  'URL',\n",
        "  'hongkong',\n",
        "  'played',\n",
        "  'protesters',\n",
        "  'TWITTERHANDLE',\n",
        "  'beating']}"
       ]
      }
     ],
     "prompt_number": 98
    },
    {
     "cell_type": "code",
     "collapsed": false,
     "input": [
      "hash_keywords = {\n",
      "    'protesters': 0,\n",
      "    'china': 0,\n",
      "    'beating': 0,\n",
      "    'first': 0,\n",
      "    'hong': 1,\n",
      "    'police': 1,\n",
      "    'played': 2,\n",
      "    'us': 3,\n",
      "    'website': 3,\n",
      "    'news': 3,\n",
      "    'blocked': 3,\n",
      "    'paintballmexico': 4,\n",
      "    'gotchamexico': 4,\n",
      "    'gotcha': 4,\n",
      "    'paintball': 4,\n",
      "    'square': 5,\n",
      "    'admiralty': 5,\n",
      "    'view': 5,\n",
      "    'hk': 6,\n",
      "    'rally': 6,\n",
      "    'last': 6,\n",
      "}"
     ],
     "language": "python",
     "metadata": {},
     "outputs": [],
     "prompt_number": 65
    },
    {
     "cell_type": "code",
     "collapsed": false,
     "input": [
      "def measure_keywords(words):\n",
      "    sent = []\n",
      "    for i in words:\n",
      "        if i in hash_keywords.keys():\n",
      "            sent.append(hash_keywords[i])\n",
      "    if sent:\n",
      "        return sum(sent) / len(sent)\n",
      "    else:\n",
      "        return 0"
     ],
     "language": "python",
     "metadata": {},
     "outputs": [],
     "prompt_number": 79
    },
    {
     "cell_type": "code",
     "collapsed": false,
     "input": [
      "unique_tweets['word_freq'] = unique_tweets.tokens.apply(measure_keywords)"
     ],
     "language": "python",
     "metadata": {},
     "outputs": [],
     "prompt_number": 80
    },
    {
     "cell_type": "code",
     "collapsed": false,
     "input": [
      "from sklearn import linear_model as lm\n",
      "lmfit = lm.LogisticRegression()\n",
      "\n",
      "print lmfit.fit(unique_tweets[['word_freq']], unique_tweets['target'])\n",
      "print lmfit.score(unique_tweets[['word_freq']], unique_tweets['target'])\n",
      "\n",
      "import matplotlib.pyplot as plt\n",
      "plt.scatter(unique_tweets[['word_freq']], unique_tweets['target'], alpha = 0.3)\n"
     ],
     "language": "python",
     "metadata": {},
     "outputs": [
      {
       "output_type": "stream",
       "stream": "stdout",
       "text": [
        "LogisticRegression(C=1.0, class_weight=None, dual=False, fit_intercept=True,\n",
        "          intercept_scaling=1, penalty=l2, random_state=None, tol=0.0001)\n",
        "0.304653204565\n"
       ]
      },
      {
       "metadata": {},
       "output_type": "pyout",
       "prompt_number": 84,
       "text": [
        "<matplotlib.collections.PathCollection at 0x1ed2fba8>"
       ]
      },
      {
       "metadata": {},
       "output_type": "display_data",
       "png": "[encoded data removed]",
       "text": [
        "<matplotlib.figure.Figure at 0x1c0d1a20>"
       ]
      }
     ],
     "prompt_number": 84
    },
    {
     "cell_type": "markdown",
     "metadata": {},
     "source": [
      "#### R-squared = 0.30, hashtag not highly correlated to the selected most popular words -may need to expand the list of words to improve the result"
     ]
    },
    {
     "cell_type": "markdown",
     "metadata": {},
     "source": []
    }
   ],
   "metadata": {}
  }
 ]
}