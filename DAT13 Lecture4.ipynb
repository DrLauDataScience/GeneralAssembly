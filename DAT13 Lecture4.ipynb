{
 "metadata": {
  "name": "",
  "signature": "sha256:ef9cb2e25361dd3a3150ab6749f60b4282e937e2492288d0cee21f19b1e278f0"
 },
 "nbformat": 3,
 "nbformat_minor": 0,
 "worksheets": []
}